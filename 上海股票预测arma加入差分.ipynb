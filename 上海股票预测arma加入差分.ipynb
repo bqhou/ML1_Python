{
 "cells": [
  {
   "cell_type": "code",
   "execution_count": null,
   "metadata": {},
   "outputs": [],
   "source": [
    "# -*- coding: utf-8 -*-\n",
    "# 用 ARIMA 进行时间序列预测\n",
    "import numpy as np\n",
    "from statsmodels.graphics.tsaplots import acf,pacf,plot_acf,plot_pacf\n",
    "#2.下面我们先对非平稳时间序列进行时间序列的差分，找出适合的差分次数\n",
    "#fig = plt.figure(figsize=(12, 8))\n",
    "#ax1 = fig.add_subplot(111)\n",
    "#diff1 = data.diff(1)\n",
    "#diff1.plot(ax=ax1)\n",
    "#这里是做了1阶差分，可以看出时间序列的均值和方差基本平稳，\n",
    "#这里我们使用一阶差分的时间序列，把上面代码注释掉\n",
    "#3.接下来我们要找到ARIMA模型中合适的p和q值：\n",
    "data = data.diff(1)\n",
    "data.dropna(inplace=True)\n",
    "#第一步：先检查平稳序列的自相关图和偏自相关图\n",
    "fig = plt.figure(figsize=(12, 8))\n",
    "ax1 = fig.add_subplot(211)\n",
    "fig = sm.graphics.tsa.plot_acf(data,lags=40,ax=ax1)\n",
    "#lags 表示滞后的阶数，下面分别得到acf 图和pacf 图\n",
    "ax2 = fig.add_subplot(212)\n",
    "fig = sm.graphics.tsa.plot_pacf(data, lags=40,ax=ax2)\n",
    "#由下图我们可以分别用ARMA(0,1)模型、ARMA(7,0)模型、ARMA(7,1)模型等来拟合找出最佳模型：\n",
    "#第三步:找出最佳模型ARMA\n",
    "arma_mod1 = sm.tsa.ARMA(data,(7,0)).fit()\n",
    "print(arma_mod1.aic, arma_mod1.bic, arma_mod1.hqic)\n",
    "arma_mod2 = sm.tsa.ARMA(data,(0,1)).fit()\n",
    "print(arma_mod2.aic, arma_mod2.bic, arma_mod2.hqic)\n",
    "arma_mod3 = sm.tsa.ARMA(data,(7,1)).fit()\n",
    "print(arma_mod3.aic, arma_mod3.bic, arma_mod3.hqic)\n",
    "arma_mod4 = sm.tsa.ARMA(data,(8,0)).fit()\n",
    "print(arma_mod4.aic, arma_mod4.bic, arma_mod4.hqic)\n",
    "#由上面可以看出ARMA(7,0)模型最佳\n",
    "#第四步：进行模型检验，首先对ARMA(7,0)模型所产生的残差做自相关图\n",
    "resid = arma_mod1.resid\n",
    "#一定要加上这个变量赋值语句，不然会报错resid is not defined\n",
    "fig = plt.figure(figsize=(12, 8))\n",
    "ax1 = fig.add_subplot(211)\n",
    "fig = sm.graphics.tsa.plot_acf(resid.values.squeeze(),lags=40,ax=ax1)\n",
    "ax2 = fig.add_subplot(212)\n",
    "fig = sm.graphics.tsa.plot_pacf(resid, lags=40,ax=ax2)\n",
    "#接着做德宾-沃森（D-W）检验\n",
    "print(sm.stats.durbin_watson(arma_mod1.resid.values))\n",
    "#得出来结果是不存在自相关性的\n",
    "#再观察是否符合正态分布,这里用qq图\n",
    "fig = plt.figure(figsize=(12,8))\n",
    "ax = fig.add_subplot(111)\n",
    "fig = qqplot(resid, line='q',ax=ax, fit=True)\n",
    "#最后用Ljung-Box检验:检验的结果就是看最后一列前十二行的检验概率（一般观察滞后1~12阶）\n",
    "r,q,p = sm.tsa.acf(resid.values.squeeze(),qstat=True)\n",
    "data1 = np.c_[range(1,41), r[1:], q, p]\n",
    "table= pd.DataFrame(data1, columns=[ 'lag','AC','Q','Prob(>Q)'])\n",
    "print(table.set_index('lag'))\n"
   ]
  }
 ],
 "metadata": {
  "kernelspec": {
   "display_name": "Python 3",
   "language": "python",
   "name": "python3"
  },
  "language_info": {
   "codemirror_mode": {
    "name": "ipython",
    "version": 3
   },
   "file_extension": ".py",
   "mimetype": "text/x-python",
   "name": "python",
   "nbconvert_exporter": "python",
   "pygments_lexer": "ipython3",
   "version": "3.7.4"
  }
 },
 "nbformat": 4,
 "nbformat_minor": 2
}
