{
 "cells": [
  {
   "cell_type": "code",
   "execution_count": 15,
   "metadata": {},
   "outputs": [],
   "source": [
    "import numpy as np\n",
    "import PIL.Image as image\n",
    "from sklearn.cluster import KMeans\n",
    "from sklearn import  preprocessing\n",
    "import matplotlib.image as mping\n"
   ]
  },
  {
   "cell_type": "code",
   "execution_count": 16,
   "metadata": {},
   "outputs": [],
   "source": [
    "def load_data(filepath):\n",
    "    f=open(filepath,'rb')\n",
    "    data=[]\n",
    "    img=image.open(f)\n",
    "    width,height=img.size\n",
    "    for x in range(width):\n",
    "        for y in range(height):\n",
    "            c1, c2, c3=img.getpixel((x,y))\n",
    "            data.append([(c1+1)/256, (c2+1)/256, (c3+1)/256])\n",
    "    f.close()\n",
    "    return np.matrix(data,copy=False), width, height\n",
    "img, width, height=load_data('/Users/bingqihou/Documents/DataAnalysis54/baby.jpg')\n",
    "\n"
   ]
  },
  {
   "cell_type": "code",
   "execution_count": 17,
   "metadata": {},
   "outputs": [],
   "source": [
    "kmeans=KMeans(n_clusters=10)\n",
    "label=kmeans.fit_predict(img)"
   ]
  },
  {
   "cell_type": "code",
   "execution_count": 18,
   "metadata": {},
   "outputs": [],
   "source": [
    "label=label.reshape([width,height])\n",
    "img=image.new('RGB',(width, height))\n",
    "for x in range(width):\n",
    "    for y in range(height):\n",
    "        c1=kmeans.cluster_centers_[label[x,y],0]\n",
    "        c2=kmeans.cluster_centers_[label[x,y],1]\n",
    "        c3=kmeans.cluster_centers_[label[x,y],2]\n",
    "        img.putpixel((x,y),(int(c1*256)-1, int(c2*256)-1,int(c3*256)-1))\n",
    "img.save('baby_new.jpg')"
   ]
  },
  {
   "cell_type": "code",
   "execution_count": null,
   "metadata": {},
   "outputs": [],
   "source": []
  }
 ],
 "metadata": {
  "kernelspec": {
   "display_name": "Python 3",
   "language": "python",
   "name": "python3"
  },
  "language_info": {
   "codemirror_mode": {
    "name": "ipython",
    "version": 3
   },
   "file_extension": ".py",
   "mimetype": "text/x-python",
   "name": "python",
   "nbconvert_exporter": "python",
   "pygments_lexer": "ipython3",
   "version": "3.7.4"
  }
 },
 "nbformat": 4,
 "nbformat_minor": 2
}
