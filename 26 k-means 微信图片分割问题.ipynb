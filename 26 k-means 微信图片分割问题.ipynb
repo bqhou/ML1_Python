{
 "cells": [
  {
   "cell_type": "code",
   "execution_count": 1,
   "metadata": {},
   "outputs": [],
   "source": [
    "# -*- coding: utf-8 -*-\n",
    "# 使用K-means对图像进行聚类，显示分割标识的可视化\n",
    "import numpy as np\n",
    "import PIL.Image as image\n",
    "from sklearn.cluster import KMeans\n",
    "from sklearn import preprocessing"
   ]
  },
  {
   "cell_type": "code",
   "execution_count": 2,
   "metadata": {},
   "outputs": [],
   "source": [
    "\n",
    "# 加载图像，并对数据进行规范化\n",
    "def load_data(filePath):\n",
    "    # 读文件\n",
    "    f = open(filePath,'rb')\n",
    "    data = []\n",
    "    # 得到图像的像素值\n",
    "    img = image.open(f)\n",
    "    # 得到图像尺寸\n",
    "    width, height = img.size\n",
    "    for x in range(width):\n",
    "        for y in range(height):\n",
    "            # 得到点(x,y)的三个通道值\n",
    "            #因为 jpg 格式的图像是三个通道 (R,G,B)，也就是一个像素点具有 3 个特征值。\n",
    "            #这里我们用 c1、c2、c3 来获取平面坐标点 (x,y) 的三个特征值，特征值是在 0-255 之间\n",
    "            #因为下面我用的是png，所以又加了一个特征值\n",
    "            c1, c2, c3,c4 = img.getpixel((x, y))\n",
    "            data.append([c1, c2, c3,c4])\n",
    "    f.close()\n",
    "    # 采用Min-Max规范化\n",
    "    mm = preprocessing.MinMaxScaler()\n",
    "    data = mm.fit_transform(data)\n",
    "    return np.mat(data), width, height"
   ]
  },
  {
   "cell_type": "code",
   "execution_count": 3,
   "metadata": {},
   "outputs": [],
   "source": [
    "\n",
    "# 加载图像，得到规范化的结果img，以及图像尺寸\n",
    "img, width, height = load_data('/Users/bingqihou/Documents/DataAnalysis54/weixin.png')"
   ]
  },
  {
   "cell_type": "code",
   "execution_count": 4,
   "metadata": {},
   "outputs": [],
   "source": [
    "\n",
    "# 用K-Means对图像进行2聚类\n",
    "kmeans =KMeans(n_clusters=2)\n",
    "kmeans.fit(img)\n",
    "label = kmeans.predict(img)\n",
    "# 将图像聚类结果，转化成图像尺寸的矩阵\n",
    "label = label.reshape([width, height])\n",
    "# 创建个新图像pic_mark，用来保存图像聚类的结果，并设置不同的灰度值\n",
    "pic_mark = image.new(\"L\", (width, height))\n",
    "for x in range(width):\n",
    "    for y in range(height):\n",
    "        # 根据类别设置图像灰度, 类别0 灰度值为255， 类别1 灰度值为127\n",
    "        pic_mark.putpixel((x, y), int(256/(label[x][y]+1))-1)\n",
    "pic_mark.save(\"weixin_mark.jpg\", \"JPEG\")"
   ]
  },
  {
   "cell_type": "code",
   "execution_count": 5,
   "metadata": {},
   "outputs": [],
   "source": [
    "\n",
    "from skimage import color\n",
    "# 将聚类标识矩阵转化为不同颜色的矩阵\n",
    "label_color = (color.label2rgb(label)*255).astype(np.uint8)\n",
    "label_color = label_color.transpose(1,0,2)\n",
    "images = image.fromarray(label_color)\n",
    "images.save('weixin_mark_color.jpg')"
   ]
  },
  {
   "cell_type": "code",
   "execution_count": null,
   "metadata": {},
   "outputs": [],
   "source": [
    "\n",
    "# -*- coding: utf-8 -*-\n",
    "# 使用K-means对图像进行聚类，并显示聚类压缩后的图像\n",
    "import numpy as np\n",
    "import PIL.Image as image\n",
    "from sklearn.cluster import KMeans\n",
    "from sklearn import preprocessing\n",
    "import matplotlib.image as mpimg\n",
    "# 加载图像，并对数据进行规范化\n",
    "def load_data(filePath):\n",
    "    # 读文件\n",
    "    f = open(filePath,'rb')\n",
    "    data = []\n",
    "    # 得到图像的像素值\n",
    "    img = image.open(f)\n",
    "    # 得到图像尺寸\n",
    "    width, height = img.size\n",
    "    for x in range(width):\n",
    "        for y in range(height):\n",
    "            # 得到点(x,y)的三个通道值\n",
    "            c1, c2, c3 = img.getpixel((x, y))\n",
    "            data.append([(c1+1)/256.0, (c2+1)/256.0, (c3+1)/256.0])\n",
    "    f.close()\n",
    "    return np.mat(data), width, height\n",
    "# 加载图像，得到规范化的结果imgData，以及图像尺寸\n",
    "img, width, height = load_data('/Users/bingqihou/Documents/DataAnalysis54/weixin.png')\n",
    "# 用K-Means对图像进行16聚类\n",
    "kmeans =KMeans(n_clusters=16)\n",
    "label = kmeans.fit_predict(img)\n",
    "# 将图像聚类结果，转化成图像尺寸的矩阵\n",
    "label = label.reshape([width, height])\n",
    "# 创建个新图像img，用来保存图像聚类压缩后的结果\n",
    "img=image.new('RGB', (width, height))\n",
    "for x in range(width):\n",
    "    for y in range(height):\n",
    "        c1 = kmeans.cluster_centers_[label[x, y], 0]\n",
    "        c2 = kmeans.cluster_centers_[label[x, y], 1]\n",
    "        c3 = kmeans.cluster_centers_[label[x, y], 2]\n",
    "        img.putpixel((x, y), (int(c1*256)-1, int(c2*256)-1, int(c3*256)-1))\n",
    "img.save('weixin_new.jpg')"
   ]
  }
 ],
 "metadata": {
  "kernelspec": {
   "display_name": "Python 3",
   "language": "python",
   "name": "python3"
  },
  "language_info": {
   "codemirror_mode": {
    "name": "ipython",
    "version": 3
   },
   "file_extension": ".py",
   "mimetype": "text/x-python",
   "name": "python",
   "nbconvert_exporter": "python",
   "pygments_lexer": "ipython3",
   "version": "3.7.4"
  }
 },
 "nbformat": 4,
 "nbformat_minor": 2
}
