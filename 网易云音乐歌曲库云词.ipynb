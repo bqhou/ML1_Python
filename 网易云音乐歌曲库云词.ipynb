{
 "cells": [
  {
   "cell_type": "code",
   "execution_count": 3,
   "metadata": {},
   "outputs": [],
   "source": [
    "import requests\n",
    "import sys\n",
    "import re\n",
    "import os\n",
    "from wordcloud import WordCloud\n",
    "import matplotlib.pyplot as plt\n",
    "import jieba\n",
    "from PIL import Image\n",
    "import numpy as np\n",
    "from lxml import etree\n"
   ]
  },
  {
   "cell_type": "code",
   "execution_count": 66,
   "metadata": {},
   "outputs": [],
   "source": [
    "headers={\n",
    "    'Referer':'http://music.163.com',\n",
    "    'Host':'music.163.com',\n",
    "    'Accept' :'text/html,application/xhtml+xml,application/xml;q=0.9,image/webp,image/apng,*/*;q=0.8',\n",
    "    'User-Agent':'Chrome/10',\n",
    "}\n",
    "\n",
    "# get the song list\n",
    "\n",
    "def get_songs(songlist):\n",
    "    page_url='http://music.163.com/api/playlist/detail?id='+songlist\n",
    "    res=requests.request('GET', page_url, headers=headers)\n",
    "    page=res.json()\n",
    "    #print(page)\n",
    "    if 'tracks' in page[\"result\"]:\n",
    "        tracks = page[\"result\"][\"tracks\"]\n",
    "        tracks_num=len(tracks)\n",
    "        song_ids=[]\n",
    "        song_names=[]\n",
    "        for i in range(tracks_num):\n",
    "            name=tracks[i]['name']\n",
    "            ids=tracks[i]['id']\n",
    "            song_names.append(name)\n",
    "            song_ids.append(ids)\n",
    "        #print(song_ids,'',song_names)\n",
    "        return song_names\n",
    "    else:\n",
    "        return ''"
   ]
  },
  {
   "cell_type": "code",
   "execution_count": 67,
   "metadata": {},
   "outputs": [],
   "source": [
    "# DEFINE  wordcloud\n",
    "def create_word_clouds(f):\n",
    "    print('according the frequency of word, start the word cloud:')\n",
    "    text=' '.join(jieba.cut(f, cut_all=False,HMM=True))\n",
    "    wc=WordCloud(\n",
    "    font_path='/Users/bingqihou/anaconda3/lib/fonts/SimHei.ttf',\n",
    "    max_words=100,\n",
    "    width=2000,\n",
    "    height=1200,\n",
    "    )\n",
    "    print(text)\n",
    "    wordcloud=wc.generate(text)\n",
    "    wordcloud.to_file('wordcloud.jpg')\n",
    "    plt.imshow(wordcloud)\n",
    "    plt.axis('off')\n",
    "    plt.show()"
   ]
  },
  {
   "cell_type": "code",
   "execution_count": 68,
   "metadata": {},
   "outputs": [],
   "source": [
    "#remove stop words\n",
    "def remove_stop_words(f):\n",
    "    stop_words=['(伴奏)', '(Demo版)', '(必胜客新春版)']\n",
    "    for stop_word in stop_words:\n",
    "        f=f.replace(stop_word,'')\n",
    "        return f"
   ]
  },
  {
   "cell_type": "code",
   "execution_count": 70,
   "metadata": {},
   "outputs": [
    {
     "name": "stdout",
     "output_type": "stream",
     "text": [
      "歌单信息： 一荤一素 (Live)借 (Live)入海小王日记等借17呓语Outro小王\n",
      "according the frequency of word, start the word cloud:\n",
      "一荤一素   ( Live ) 借   ( Live ) 入海 小王 日记 等 借 17 呓语 Outro 小王\n"
     ]
    },
    {
     "data": {
      "image/png": "[encoded data removed]",
      "text/plain": [
       "<Figure size 432x288 with 1 Axes>"
      ]
     },
     "metadata": {
      "needs_background": "light"
     },
     "output_type": "display_data"
    }
   ],
   "source": [
    "songlist='753776811'\n",
    "songlists=get_songs(songlist)\n",
    "list_str=''.join(songlists)\n",
    "print('歌单信息：', list_str)\n",
    "create_word_clouds(list_str)"
   ]
  },
  {
   "cell_type": "code",
   "execution_count": null,
   "metadata": {},
   "outputs": [],
   "source": []
  },
  {
   "cell_type": "code",
   "execution_count": null,
   "metadata": {},
   "outputs": [],
   "source": []
  }
 ],
 "metadata": {
  "kernelspec": {
   "display_name": "Python 3",
   "language": "python",
   "name": "python3"
  },
  "language_info": {
   "codemirror_mode": {
    "name": "ipython",
    "version": 3
   },
   "file_extension": ".py",
   "mimetype": "text/x-python",
   "name": "python",
   "nbconvert_exporter": "python",
   "pygments_lexer": "ipython3",
   "version": "3.7.4"
  }
 },
 "nbformat": 4,
 "nbformat_minor": 2
}
