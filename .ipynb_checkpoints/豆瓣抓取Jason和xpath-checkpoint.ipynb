{
 "cells": [
  {
   "cell_type": "code",
   "execution_count": null,
   "metadata": {},
   "outputs": [],
   "source": [
    "import os\n",
    "import requests\n",
    "from lxml import etree\n",
    "from selenium import webdriver\n",
    "\n",
    "search_text = \"王祖贤\"\n",
    "start = 0\n",
    "limit = 15\n",
    "total = 90\n",
    "\n",
    "def download(img, title):\n",
    "dir = \"D:\\\\数据分析\\\\python test\\\\query\\\\\" + search_text + \"\\\\\"\n",
    "id = title.replace(u'\\u200e', u'').replace(u'?', u'') .replace(u'/', u'or')\n",
    "if not os.path.exists(dir):\n",
    "os.makedirs(dir)\n",
    "try:\n",
    "pic = requests.get(img, timeout=10)\n",
    "img_path = dir + str(id) + '.jpg'\n",
    "fp = open(img_path, 'wb')\n",
    "fp.write(pic.content)\n",
    "fp.close()\n",
    "except requests.exceptions.ConnectionError:\n",
    "print('图片无法下载')\n",
    "\n",
    "def crawler_xpath():\n",
    "src_img = \"//div[@class='item-root']/a[@class='cover-link']/img[@class='cover']/@src\"\n",
    "src_title = \"//div[@class='item-root']/div[@class='detail']/div[@class='title']/a[@class='title-text']\"\n",
    "\n",
    "for i in range(start,total,limit):\n",
    "request_url = \"https://search.douban.com/movie/subject_search?search_text=\"+search_text+\"&cat=1002&start=\"+str(i)\n",
    "driver = webdriver.Chrome()\n",
    "driver.get(request_url)\n",
    "html = etree.HTML(driver.page_source)\n",
    "imgs = html.xpath(src_img)\n",
    "titles = html.xpath(src_title)\n",
    "print(imgs,titles)\n",
    "for img, title in zip(imgs, titles):\n",
    "download(img, title.text)\n",
    "if __name__ == '__main__':\n",
    "crawler_xpath()"
   ]
  }
 ],
 "metadata": {
  "kernelspec": {
   "display_name": "Python 3",
   "language": "python",
   "name": "python3"
  },
  "language_info": {
   "codemirror_mode": {
    "name": "ipython",
    "version": 3
   },
   "file_extension": ".py",
   "mimetype": "text/x-python",
   "name": "python",
   "nbconvert_exporter": "python",
   "pygments_lexer": "ipython3",
   "version": "3.7.4"
  }
 },
 "nbformat": 4,
 "nbformat_minor": 2
}
