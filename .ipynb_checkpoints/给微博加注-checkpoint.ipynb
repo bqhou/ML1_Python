{
 "cells": [
  {
   "cell_type": "code",
   "execution_count": 2,
   "metadata": {},
   "outputs": [],
   "source": [
    "\n",
    "from selenium import webdriver\n",
    "import time\n",
    "browser = webdriver.Chrome(executable_path='/Users/bingqihou/Downloads/chromedriver')\n",
    "# 登录微博\n",
    "def weibo_login(username, password):\n",
    "     # 打开微博登录页\n",
    "     browser.get('https://passport.weibo.cn/signin/login')\n",
    "     browser.implicitly_wait(5)\n",
    "     time.sleep(1)\n",
    "     # 填写登录信息：用户名、密码\n",
    "     browser.find_element_by_id(\"loginName\").send_keys(username)\n",
    "     browser.find_element_by_id(\"loginPassword\").send_keys(password)\n",
    "     time.sleep(1)\n",
    "     # 点击登录\n",
    "     browser.find_element_by_id(\"loginAction\").click()\n",
    "     time.sleep(1)\n",
    "# 设置用户名、密码\n",
    "username = '867887292@qq.com'\n",
    "password = \"hbq865337\"\n",
    "weibo_login(username, password)"
   ]
  },
  {
   "cell_type": "code",
   "execution_count": null,
   "metadata": {},
   "outputs": [],
   "source": []
  }
 ],
 "metadata": {
  "kernelspec": {
   "display_name": "Python 3",
   "language": "python",
   "name": "python3"
  },
  "language_info": {
   "codemirror_mode": {
    "name": "ipython",
    "version": 3
   },
   "file_extension": ".py",
   "mimetype": "text/x-python",
   "name": "python",
   "nbconvert_exporter": "python",
   "pygments_lexer": "ipython3",
   "version": "3.7.4"
  }
 },
 "nbformat": 4,
 "nbformat_minor": 2
}
