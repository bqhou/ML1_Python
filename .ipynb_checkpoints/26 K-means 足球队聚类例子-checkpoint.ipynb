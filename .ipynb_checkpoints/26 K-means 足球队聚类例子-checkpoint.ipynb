{
 "cells": [
  {
   "cell_type": "code",
   "execution_count": 4,
   "metadata": {},
   "outputs": [
    {
     "name": "stdout",
     "output_type": "stream",
     "text": [
      "   国家  2019年国际排名  2018世界杯  2015亚洲杯\n",
      "0  中国         73       40        7\n",
      "1  日本         60       15        5\n",
      "2  韩国         61       19        2\n",
      "3  伊朗         34       18        6\n",
      "4  沙特         67       26       10\n",
      "        国家  2019年国际排名  2018世界杯  2015亚洲杯  聚类\n",
      "0       中国         73       40        7   2\n",
      "1       日本         60       15        5   1\n",
      "2       韩国         61       19        2   1\n",
      "3       伊朗         34       18        6   1\n",
      "4       沙特         67       26       10   1\n",
      "5      伊拉克         91       40        4   2\n",
      "6      卡塔尔        101       40       13   0\n",
      "7      阿联酋         81       40        6   2\n",
      "8   乌兹别克斯坦         88       40        8   2\n",
      "9       泰国        122       40       17   0\n",
      "10      越南        102       50       17   0\n",
      "11      阿曼         87       50       12   0\n",
      "12      巴林        116       50       11   0\n",
      "13      朝鲜        110       50       14   0\n",
      "14      印尼        164       50       17   0\n",
      "15      澳洲         40       30        1   1\n",
      "16     叙利亚         76       40       17   0\n",
      "17      约旦        118       50        9   0\n",
      "18     科威特        160       50       15   0\n",
      "19    巴勒斯坦         96       50       16   0\n"
     ]
    }
   ],
   "source": [
    "#用最小最大\n",
    "# coding: utf-8\n",
    "from sklearn.cluster import KMeans\n",
    "from sklearn import preprocessing\n",
    "import pandas as pd\n",
    "import numpy as np\n",
    "# 输入数据\n",
    "data = pd.read_csv('/Users/bingqihou/Documents/DataAnalysis54/kmeans/data.csv', encoding='gbk')\n",
    "print(data.head())\n",
    "\n",
    "train_x = data[[\"2019年国际排名\",\"2018世界杯\",\"2015亚洲杯\"]]\n",
    "df = pd.DataFrame(train_x)\n",
    "kmeans = KMeans(n_clusters=3)\n",
    "# 规范化到[0,1]空间\n",
    "min_max_scaler=preprocessing.MinMaxScaler()\n",
    "train_x=min_max_scaler.fit_transform(train_x)\n",
    "# kmeans算法\n",
    "kmeans.fit(train_x)\n",
    "predict_y = kmeans.predict(train_x)\n",
    "# 合并聚类结果，插入到原数据中\n",
    "result = pd.concat((data,pd.DataFrame(predict_y)),axis=1)\n",
    "result.rename({0:u'聚类'},axis=1,inplace=True)\n",
    "print(result)"
   ]
  },
  {
   "cell_type": "code",
   "execution_count": 5,
   "metadata": {},
   "outputs": [
    {
     "name": "stdout",
     "output_type": "stream",
     "text": [
      "   国家  2019年国际排名  2018世界杯  2015亚洲杯\n",
      "0  中国         73       40        7\n",
      "1  日本         60       15        5\n",
      "2  韩国         61       19        2\n",
      "3  伊朗         34       18        6\n",
      "4  沙特         67       26       10\n",
      "        国家  2019年国际排名  2018世界杯  2015亚洲杯  聚类\n",
      "0       中国         73       40        7   0\n",
      "1       日本         60       15        5   2\n",
      "2       韩国         61       19        2   2\n",
      "3       伊朗         34       18        6   2\n",
      "4       沙特         67       26       10   2\n",
      "5      伊拉克         91       40        4   0\n",
      "6      卡塔尔        101       40       13   4\n",
      "7      阿联酋         81       40        6   0\n",
      "8   乌兹别克斯坦         88       40        8   0\n",
      "9       泰国        122       40       17   1\n",
      "10      越南        102       50       17   1\n",
      "11      阿曼         87       50       12   4\n",
      "12      巴林        116       50       11   4\n",
      "13      朝鲜        110       50       14   4\n",
      "14      印尼        164       50       17   3\n",
      "15      澳洲         40       30        1   2\n",
      "16     叙利亚         76       40       17   1\n",
      "17      约旦        118       50        9   4\n",
      "18     科威特        160       50       15   3\n",
      "19    巴勒斯坦         96       50       16   1\n"
     ]
    }
   ],
   "source": [
    "#用正态分布来规范数据\n",
    "from sklearn.cluster import KMeans\n",
    "from sklearn import preprocessing\n",
    "import pandas as pd\n",
    "import numpy as np\n",
    "# 输入数据\n",
    "data = pd.read_csv('/Users/bingqihou/Documents/DataAnalysis54/kmeans/data.csv', encoding='gbk')\n",
    "print(data.head())\n",
    "\n",
    "train_x = data[[\"2019年国际排名\",\"2018世界杯\",\"2015亚洲杯\"]]\n",
    "df = pd.DataFrame(train_x)\n",
    "kmeans = KMeans(n_clusters=5)\n",
    "# 规范化正态分布\n",
    "ss=preprocessing.StandardScaler()\n",
    "train_x=ss.fit_transform(train_x)\n",
    "# kmeans算法\n",
    "kmeans.fit(train_x)\n",
    "predict_y = kmeans.predict(train_x)\n",
    "# 合并聚类结果，插入到原数据中\n",
    "result = pd.concat((data,pd.DataFrame(predict_y)),axis=1)\n",
    "result.rename({0:u'聚类'},axis=1,inplace=True)\n",
    "print(result)"
   ]
  },
  {
   "cell_type": "code",
   "execution_count": null,
   "metadata": {},
   "outputs": [],
   "source": []
  }
 ],
 "metadata": {
  "kernelspec": {
   "display_name": "Python 3",
   "language": "python",
   "name": "python3"
  },
  "language_info": {
   "codemirror_mode": {
    "name": "ipython",
    "version": 3
   },
   "file_extension": ".py",
   "mimetype": "text/x-python",
   "name": "python",
   "nbconvert_exporter": "python",
   "pygments_lexer": "ipython3",
   "version": "3.7.4"
  }
 },
 "nbformat": 4,
 "nbformat_minor": 2
}
