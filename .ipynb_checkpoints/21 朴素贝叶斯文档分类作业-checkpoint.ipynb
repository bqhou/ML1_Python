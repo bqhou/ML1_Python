{
 "cells": [
  {
   "cell_type": "code",
   "execution_count": 13,
   "metadata": {},
   "outputs": [],
   "source": [
    "import os\n",
    "import jieba\n",
    "from sklearn.feature_extraction.text import TfidfVectorizer\n",
    "from sklearn.naive_bayes import MultinomialNB\n",
    "from sklearn import metrics\n"
   ]
  },
  {
   "cell_type": "code",
   "execution_count": 18,
   "metadata": {},
   "outputs": [],
   "source": [
    "LABEL_MAP = {'体育': 0, '女性': 1, '文学': 2, '校园': 3}\n",
    "# 加载停用词\n",
    "with open('/Users/bingqihou/Documents/DataAnalysis54/text_classification//text classification/stop/stopword.txt', 'rb') as f:\n",
    "    STOP_WORDS = [line.strip() for line in f.readlines()]"
   ]
  },
  {
   "cell_type": "code",
   "execution_count": 19,
   "metadata": {},
   "outputs": [],
   "source": [
    "#读取文件夹里面的文件\n",
    "\n",
    "#root 所指的是当前正在遍历的这个文件夹的本身的地址\n",
    "#dirs 是一个 list ，内容是该文件夹中所有的目录的名字(不包括子目录)\n",
    "#files 同样是 list , 内容是该文件夹中所有的文件(不包括子目录)\n",
    "\n",
    "\n",
    "\n",
    "def load_data(base_path):\n",
    "    \"\"\"\n",
    "    :param base_path: 基础路径\n",
    "    :return: 分词列表，标签列表\n",
    "    \"\"\"\n",
    "    documents = []\n",
    "    labels = []\n",
    "\n",
    "    for root, dirs, files in os.walk(base_path): # 循环所有文件并进行分词打标\n",
    "\n",
    "        for file in files:\n",
    "            label = root.split('/')[-1]  # 路径符号自动转成\\了，所以要转义下\n",
    "            labels.append(label)\n",
    "            filename = os.path.join(root, file)\n",
    "            with open(filename, 'rb') as f: # 因为字符集问题因此直接用二进制方式读取\n",
    "                content = f.read()\n",
    "                word_list = list(jieba.cut(content))\n",
    "                words = [wl for wl in word_list]\n",
    "                documents.append(' '.join(words))\n",
    "    return documents, labels\n"
   ]
  },
  {
   "cell_type": "code",
   "execution_count": 20,
   "metadata": {},
   "outputs": [],
   "source": [
    "def train_fun(td, tl, testd, testl):\n",
    "    \"\"\"\n",
    "    构造模型并计算测试集准确率，字数限制变量名简写\n",
    "    :param td: 训练集数据\n",
    "    :param tl: 训练集标签\n",
    "    :param testd: 测试集数据\n",
    "    :param testl: 测试集标签\n",
    "    :return: 测试集准确率\n",
    "    \"\"\"\n",
    "    # 计算矩阵\n",
    "    tt = TfidfVectorizer(stop_words=STOP_WORDS, max_df=0.5)\n",
    "    tf = tt.fit_transform(td)\n",
    "    # 训练模型\n",
    "    clf = MultinomialNB(alpha=0.001).fit(tf, tl)\n",
    "    # 模型预测\n",
    "    test_tf = TfidfVectorizer(stop_words=STOP_WORDS, max_df=0.5, vocabulary=tt.vocabulary_)\n",
    "    test_features = test_tf.fit_transform(testd)\n",
    "    predicted_labels = clf.predict(test_features)\n",
    "    # 获取结果\n",
    "    x = metrics.accuracy_score(testl, predicted_labels)\n",
    "    return x\n"
   ]
  },
  {
   "cell_type": "code",
   "execution_count": 21,
   "metadata": {},
   "outputs": [
    {
     "name": "stdout",
     "output_type": "stream",
     "text": [
      "0.91\n"
     ]
    }
   ],
   "source": [
    "train_documents, train_labels = \n",
    "load_data('/Users/bingqihou/Documents/DataAnalysis54/text_classification/text classification/train')\n",
    "test_documents, test_labels = \n",
    "load_data('/Users/bingqihou/Documents/DataAnalysis54/text_classification//text classification/test')\n",
    "x = train_fun(train_documents, train_labels, test_documents, test_labels)\n",
    "print(x)"
   ]
  },
  {
   "cell_type": "code",
   "execution_count": null,
   "metadata": {},
   "outputs": [],
   "source": []
  }
 ],
 "metadata": {
  "kernelspec": {
   "display_name": "Python 3",
   "language": "python",
   "name": "python3"
  },
  "language_info": {
   "codemirror_mode": {
    "name": "ipython",
    "version": 3
   },
   "file_extension": ".py",
   "mimetype": "text/x-python",
   "name": "python",
   "nbconvert_exporter": "python",
   "pygments_lexer": "ipython3",
   "version": "3.7.4"
  }
 },
 "nbformat": 4,
 "nbformat_minor": 2
}
