{
 "cells": [
  {
   "cell_type": "code",
   "execution_count": 3,
   "metadata": {},
   "outputs": [
    {
     "name": "stdout",
     "output_type": "stream",
     "text": [
      "(3,)\n",
      "(3, 3)\n",
      "int64\n",
      "[[ 1  2  3]\n",
      " [ 4 10  6]\n",
      " [ 7  8  9]]\n",
      "[1 2 3]\n"
     ]
    }
   ],
   "source": [
    "#创建数组\n",
    "import numpy as np\n",
    "a = np.array([1, 2, 3])\n",
    "b = np.array([[1, 2, 3], [4, 5, 6], [7, 8, 9]])\n",
    "b[1,1]=10\n",
    "print(a.shape)\n",
    "print (b.shape)\n",
    "print (a.dtype)\n",
    "print (b)\n",
    "print(a)"
   ]
  },
  {
   "cell_type": "code",
   "execution_count": null,
   "metadata": {},
   "outputs": [],
   "source": []
  },
  {
   "cell_type": "code",
   "execution_count": 20,
   "metadata": {},
   "outputs": [
    {
     "name": "stdout",
     "output_type": "stream",
     "text": [
      "[32 24 28 29]\n",
      "[(b'ZhangFei', 32, 75, 100,  90. ) (b'GuanYu', 24, 85,  96,  88.5)\n",
      " (b'ZhaoYun', 28, 85,  92,  96.5) (b'HuangZhong', 29, 65,  85, 100. )]\n",
      "28.25\n",
      "77.5\n",
      "93.25\n",
      "93.75\n"
     ]
    }
   ],
   "source": [
    "#结构数组\n",
    "\n",
    "import numpy as np\n",
    "persontype = np.dtype({\n",
    "    'names':['name', 'age', 'chinese', 'math', 'english'],\n",
    "    'formats':['S32','i', 'i', 'i', 'f']})\n",
    "peoples = np.array([(\"ZhangFei\",32,75,100, 90),(\"GuanYu\",24,85,96,88.5),\n",
    "       (\"ZhaoYun\",28,85,92,96.5),(\"HuangZhong\",29,65,85,100)], dtype=persontype)\n",
    "ages = peoples['age']\n",
    "chineses = peoples['chinese']\n",
    "maths = peoples['math']\n",
    "englishs = peoples['english']\n",
    "print(ages)\n",
    "print(peoples)\n",
    "print (np.mean(ages))\n",
    "print (np.mean(chineses))\n",
    "print (np.mean(maths))\n",
    "print(np.mean(englishs))"
   ]
  },
  {
   "cell_type": "code",
   "execution_count": 21,
   "metadata": {},
   "outputs": [
    {
     "name": "stdout",
     "output_type": "stream",
     "text": [
      "[1 3 5 7 9] [1. 3. 5. 7. 9.]\n"
     ]
    }
   ],
   "source": [
    "#连续数组的创建\n",
    "#range()，通过指定初始值、终值、步长\n",
    "\n",
    "x1 = np.arange(1,11,2)\n",
    "x2 = np.linspace(1,9,5)\n",
    "print(x1,x2)"
   ]
  },
  {
   "cell_type": "code",
   "execution_count": 22,
   "metadata": {},
   "outputs": [
    {
     "name": "stdout",
     "output_type": "stream",
     "text": [
      "[ 2.  6. 10. 14. 18.]\n",
      "[0. 0. 0. 0. 0.]\n",
      "[ 1.  9. 25. 49. 81.]\n",
      "[1. 1. 1. 1. 1.]\n",
      "[1.00000000e+00 2.70000000e+01 3.12500000e+03 8.23543000e+05\n",
      " 3.87420489e+08]\n",
      "[0. 0. 0. 0. 0.]\n"
     ]
    }
   ],
   "source": [
    "#算数运算\n",
    "\n",
    "x1 = np.arange(1,11,2)\n",
    "x2 = np.linspace(1,9,5)\n",
    "print(np.add(x1, x2))\n",
    "print (np.subtract(x1, x2))\n",
    "print (np.multiply(x1, x2))\n",
    "print (np.divide(x1, x2))\n",
    "print (np.power(x1, x2))\n",
    "#在取余函数里，你既可以用 np.remainder(x1, x2)，也可以用 np.mod(x1, x2)，结果是一样的。\n",
    "print (np.remainder(x1, x2))"
   ]
  },
  {
   "cell_type": "code",
   "execution_count": 24,
   "metadata": {},
   "outputs": [
    {
     "name": "stdout",
     "output_type": "stream",
     "text": [
      "1\n",
      "[1 2 3]\n",
      "[1 4 7]\n",
      "9\n",
      "[7 8 9]\n",
      "[3 6 9]\n"
     ]
    }
   ],
   "source": [
    "#统计函数\n",
    "#计数组 / 矩阵中的最大值函数 amax()，最小值函数 amin()\n",
    "\n",
    "import numpy as np\n",
    "a = np.array([[1,2,3], [4,5,6], [7,8,9]])\n",
    "#amin() 用于计算数组中的元素沿指定轴的最小值\n",
    "print(np.amin(a))\n",
    "print (np.amin(a,0))\n",
    "print( np.amin(a,1))\n",
    "print (np.amax(a))\n",
    "print( np.amax(a,0))\n",
    "print (np.amax(a,1))"
   ]
  },
  {
   "cell_type": "code",
   "execution_count": 26,
   "metadata": {},
   "outputs": [
    {
     "name": "stdout",
     "output_type": "stream",
     "text": [
      "8\n",
      "[6 6 6]\n",
      "[2 2 2]\n"
     ]
    }
   ],
   "source": [
    "#统计最大值与最小值之差 ptp()\n",
    "\n",
    "a = np.array([[1,2,3], [4,5,6], [7,8,9]])\n",
    "print (np.ptp(a))\n",
    "print (np.ptp(a,0))\n",
    "print (np.ptp(a,1))"
   ]
  },
  {
   "cell_type": "code",
   "execution_count": 28,
   "metadata": {},
   "outputs": [
    {
     "name": "stdout",
     "output_type": "stream",
     "text": [
      "5.0\n",
      "[4. 5. 6.]\n",
      "[2. 5. 8.]\n"
     ]
    }
   ],
   "source": [
    "#统计数组的百分位数 percentile()\n",
    "\n",
    "a = np.array([[1,2,3], [4,5,6], [7,8,9]])\n",
    "print (np.percentile(a, 50))\n",
    "print( np.percentile(a, 50, axis=0))\n",
    "print (np.percentile(a, 50, axis=1))"
   ]
  },
  {
   "cell_type": "code",
   "execution_count": 29,
   "metadata": {},
   "outputs": [
    {
     "name": "stdout",
     "output_type": "stream",
     "text": [
      "5.0\n",
      "[4. 5. 6.]\n",
      "[2. 5. 8.]\n",
      "5.0\n",
      "[4. 5. 6.]\n",
      "[2. 5. 8.]\n"
     ]
    }
   ],
   "source": [
    "#统计数组中的中位数 median()、平均数 mean()\n",
    "\n",
    "a = np.array([[1,2,3], [4,5,6], [7,8,9]])\n",
    "#求中位数\n",
    "print (np.median(a))\n",
    "print( np.median(a, axis=0))\n",
    "print (np.median(a, axis=1))\n",
    "#求平均数\n",
    "print (np.mean(a))\n",
    "print (np.mean(a, axis=0))\n",
    "print (np.mean(a, axis=1))"
   ]
  },
  {
   "cell_type": "code",
   "execution_count": 30,
   "metadata": {},
   "outputs": [
    {
     "name": "stdout",
     "output_type": "stream",
     "text": [
      "2.5\n",
      "3.0\n"
     ]
    }
   ],
   "source": [
    "#统计数组中的加权平均值 average()\n",
    "\n",
    "a = np.array([1,2,3,4])\n",
    "wts = np.array([1,2,3,4])\n",
    "print (np.average(a))\n",
    "print (np.average(a,weights=wts))"
   ]
  },
  {
   "cell_type": "code",
   "execution_count": 31,
   "metadata": {},
   "outputs": [
    {
     "name": "stdout",
     "output_type": "stream",
     "text": [
      "1.118033988749895\n",
      "1.25\n"
     ]
    }
   ],
   "source": [
    "#统计数组中的标准差 std()、方差 var()\n",
    "\n",
    "a = np.array([1,2,3,4])\n",
    "print (np.std(a))\n",
    "print( np.var(a))"
   ]
  },
  {
   "cell_type": "code",
   "execution_count": 35,
   "metadata": {},
   "outputs": [
    {
     "name": "stdout",
     "output_type": "stream",
     "text": [
      "(2, 3)\n",
      "[[2 3 4]\n",
      " [1 2 4]]\n",
      "[1 2 2 3 4 4]\n",
      "[[2 3 1]\n",
      " [4 4 2]]\n",
      "[[2 3 4]\n",
      " [1 2 4]]\n",
      "[[2 3 4]\n",
      " [1 2 4]]\n"
     ]
    }
   ],
   "source": [
    "#排序\n",
    "#sort(a, axis=-1, kind=‘quicksort’, order=None)\n",
    "#axis 默认是 -1，即沿着数组的最后一个轴进行排序\n",
    "\n",
    "a = np.array([[4,3,2],[2,4,1]])\n",
    "print(a.shape)\n",
    "print (np.sort(a))\n",
    "print (np.sort(a, axis=None))\n",
    "print(np.sort(a, axis=0)  )\n",
    "print (np.sort(a, axis=1)  )\n",
    "#if axis=0 it will be the first dimension and if axis=-1 it will be the last dimension\n",
    "print (np.sort(a, axis=-1)  )"
   ]
  },
  {
   "cell_type": "code",
   "execution_count": 37,
   "metadata": {},
   "outputs": [
    {
     "name": "stdout",
     "output_type": "stream",
     "text": [
      "(5, 4)\n"
     ]
    }
   ],
   "source": [
    "peoples = np.array(\n",
    "        [\n",
    "            (\"zhangfei\", 66, 65, 30),\n",
    "            (\"guanyu\", 95, 85, 98),\n",
    "            (\"zhaoyun\", 93, 92, 96),\n",
    "            (\"huangzhong\", 90, 88, 77),\n",
    "            (\"dianwei\", 80, 90, 90)\n",
    "        ])\n",
    "print(peoples.shape)"
   ]
  },
  {
   "cell_type": "code",
   "execution_count": null,
   "metadata": {},
   "outputs": [],
   "source": []
  }
 ],
 "metadata": {
  "kernelspec": {
   "display_name": "Python 3",
   "language": "python",
   "name": "python3"
  },
  "language_info": {
   "codemirror_mode": {
    "name": "ipython",
    "version": 3
   },
   "file_extension": ".py",
   "mimetype": "text/x-python",
   "name": "python",
   "nbconvert_exporter": "python",
   "pygments_lexer": "ipython3",
   "version": "3.7.4"
  }
 },
 "nbformat": 4,
 "nbformat_minor": 2
}
